{
 "cells": [
  {
   "cell_type": "code",
   "execution_count": 1,
   "metadata": {},
   "outputs": [],
   "source": [
    "! pip install openai==0.28"
   ]
  },
  {
   "cell_type": "code",
   "execution_count": 11,
   "metadata": {},
   "outputs": [],
   "source": [
    "import os\n",
    "import openai       \n",
    "\n",
    "openai.api_key = \"sk-proj-EZ2HXokcnX8O6Zh6OgQCT3BlbkFJSmT5ONnLxQrPGd6HYA9Q\"\n",
    "os.environ[\"OPENAI_API_KEY\"] = \"sk-proj-EZ2HXokcnX8O6Zh6OgQCT3BlbkFJSmT5ONnLxQrPGd6HYA9Q\""
   ]
  },
  {
   "cell_type": "code",
   "execution_count": 2,
   "metadata": {},
   "outputs": [],
   "source": [
    "from langchain.text_splitter import CharacterTextSplitter\n",
    "text_splitter = CharacterTextSplitter(chunk_size=500)"
   ]
  },
  {
   "cell_type": "code",
   "execution_count": 3,
   "metadata": {},
   "outputs": [],
   "source": [
    "from langchain.vectorstores.faiss import FAISS\n",
    "from langchain.document_loaders.csv_loader import CSVLoader\n",
    "from langchain.embeddings.huggingface import HuggingFaceEmbeddings"
   ]
  },
  {
   "cell_type": "code",
   "execution_count": 4,
   "metadata": {},
   "outputs": [
    {
     "name": "stderr",
     "output_type": "stream",
     "text": [
      "c:\\Users\\GM\\Anaconda3\\envs\\bedrock\\lib\\site-packages\\tqdm\\auto.py:21: TqdmWarning: IProgress not found. Please update jupyter and ipywidgets. See https://ipywidgets.readthedocs.io/en/stable/user_install.html\n",
      "  from .autonotebook import tqdm as notebook_tqdm\n"
     ]
    }
   ],
   "source": [
    "textpath = CSVLoader('sales_data.csv',encoding=\"utf-8\").load()\n",
    "documents = text_splitter.split_documents(textpath)\n",
    "db = FAISS.from_documents(documents, HuggingFaceEmbeddings(model_name = \"sentence-transformers/all-MiniLM-L6-v2\"))"
   ]
  },
  {
   "cell_type": "code",
   "execution_count": 5,
   "metadata": {},
   "outputs": [],
   "source": [
    "user_message  = \"tell me the total amount for beauty category\"\n",
    "docs = db.similarity_search(user_message, k= 10)"
   ]
  },
  {
   "cell_type": "code",
   "execution_count": 6,
   "metadata": {},
   "outputs": [],
   "source": [
    "knowledge_base = []\n",
    "for documents in docs:\n",
    "  knowledge_base.append(\n",
    "      {\n",
    "          \"Information\" : documents.page_content\n",
    "      }\n",
    ")"
   ]
  },
  {
   "cell_type": "code",
   "execution_count": 7,
   "metadata": {},
   "outputs": [
    {
     "name": "stdout",
     "output_type": "stream",
     "text": [
      "[{'Information': '\\ufeffTransaction ID: 441\\nDate: 10-10-2023\\nCustomer ID: CUST441\\nGender: Male\\nAge: 57\\nProduct Category: Beauty\\nQuantity: 4\\nPrice per Unit: 300\\nTotal Amount: 1200'}, {'Information': '\\ufeffTransaction ID: 660\\nDate: 29-04-2023\\nCustomer ID: CUST660\\nGender: Female\\nAge: 38\\nProduct Category: Beauty\\nQuantity: 2\\nPrice per Unit: 500\\nTotal Amount: 1000'}, {'Information': '\\ufeffTransaction ID: 589\\nDate: 12-04-2023\\nCustomer ID: CUST589\\nGender: Female\\nAge: 36\\nProduct Category: Beauty\\nQuantity: 2\\nPrice per Unit: 500\\nTotal Amount: 1000'}, {'Information': '\\ufeffTransaction ID: 554\\nDate: 12-11-2023\\nCustomer ID: CUST554\\nGender: Female\\nAge: 46\\nProduct Category: Beauty\\nQuantity: 3\\nPrice per Unit: 50\\nTotal Amount: 150'}, {'Information': '\\ufeffTransaction ID: 276\\nDate: 02-10-2023\\nCustomer ID: CUST276\\nGender: Female\\nAge: 21\\nProduct Category: Beauty\\nQuantity: 4\\nPrice per Unit: 25\\nTotal Amount: 100'}, {'Information': '\\ufeffTransaction ID: 97\\nDate: 13-10-2023\\nCustomer ID: CUST097\\nGender: Female\\nAge: 51\\nProduct Category: Beauty\\nQuantity: 2\\nPrice per Unit: 500\\nTotal Amount: 1000'}, {'Information': '\\ufeffTransaction ID: 994\\nDate: 18-12-2023\\nCustomer ID: CUST994\\nGender: Female\\nAge: 51\\nProduct Category: Beauty\\nQuantity: 2\\nPrice per Unit: 500\\nTotal Amount: 1000'}, {'Information': '\\ufeffTransaction ID: 976\\nDate: 10-10-2023\\nCustomer ID: CUST976\\nGender: Female\\nAge: 48\\nProduct Category: Beauty\\nQuantity: 2\\nPrice per Unit: 300\\nTotal Amount: 600'}, {'Information': '\\ufeffTransaction ID: 393\\nDate: 11-10-2023\\nCustomer ID: CUST393\\nGender: Female\\nAge: 22\\nProduct Category: Beauty\\nQuantity: 2\\nPrice per Unit: 500\\nTotal Amount: 1000'}, {'Information': '\\ufeffTransaction ID: 522\\nDate: 01-01-2023\\nCustomer ID: CUST522\\nGender: Male\\nAge: 46\\nProduct Category: Beauty\\nQuantity: 3\\nPrice per Unit: 500\\nTotal Amount: 1500'}]\n"
     ]
    }
   ],
   "source": [
    "print(knowledge_base)"
   ]
  },
  {
   "cell_type": "code",
   "execution_count": 8,
   "metadata": {},
   "outputs": [],
   "source": [
    "message = [\n",
    "    {\n",
    "        \"role\":\"system\",\n",
    "        \"content\":f\"\"\"You are a smart chatbot You need to refer the knowledge base and respond to the user query,\n",
    "        You need to be truthful and accurate with your response make sure your responses are derived only by refering the knowledge base,\n",
    "        In situation where you dont have the answer to the user query present in the knowledge base, say 'sorry I dont have information.'\n",
    "        You are tasked to answer user queries sales dataset and the information is stored in the below knowledge base,\n",
    "        So refer to that and give answer to the user query, Return only the answer to the user query as your final response\\n\\nKnowledge Base: {knowledge_base}\"\"\",\n",
    "    },\n",
    "    {\n",
    "        \"role\":\"user\",\n",
    "        \"content\": user_message\n",
    "    }\n",
    "]"
   ]
  },
  {
   "cell_type": "code",
   "execution_count": 12,
   "metadata": {},
   "outputs": [],
   "source": [
    "completion = openai.ChatCompletion.create(\n",
    "            model=\"gpt-3.5-turbo\",\n",
    "            messages=message,\n",
    "            temperature=0.0,\n",
    "            max_tokens=500,\n",
    "        )\n",
    "output = completion[\"choices\"][0][\"message\"]\n",
    "response = output[\"content\"]"
   ]
  },
  {
   "cell_type": "code",
   "execution_count": 13,
   "metadata": {},
   "outputs": [
    {
     "name": "stdout",
     "output_type": "stream",
     "text": [
      "Total amount for Beauty category is 7600\n"
     ]
    }
   ],
   "source": [
    "print(response)"
   ]
  },
  {
   "cell_type": "code",
   "execution_count": null,
   "metadata": {},
   "outputs": [],
   "source": []
  },
  {
   "cell_type": "code",
   "execution_count": null,
   "metadata": {},
   "outputs": [],
   "source": []
  },
  {
   "cell_type": "code",
   "execution_count": null,
   "metadata": {},
   "outputs": [],
   "source": []
  }
 ],
 "metadata": {
  "kernelspec": {
   "display_name": "bedrock",
   "language": "python",
   "name": "python3"
  },
  "language_info": {
   "codemirror_mode": {
    "name": "ipython",
    "version": 3
   },
   "file_extension": ".py",
   "mimetype": "text/x-python",
   "name": "python",
   "nbconvert_exporter": "python",
   "pygments_lexer": "ipython3",
   "version": "3.10.0"
  }
 },
 "nbformat": 4,
 "nbformat_minor": 2
}
