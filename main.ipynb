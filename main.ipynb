{
 "cells": [
  {
   "cell_type": "code",
   "execution_count": 8,
   "metadata": {},
   "outputs": [
    {
     "name": "stdout",
     "output_type": "stream",
     "text": [
      "Requirement already satisfied: langchain in c:\\users\\gm\\anaconda3\\envs\\bedrock\\lib\\site-packages (0.1.14)\n",
      "Requirement already satisfied: PyYAML>=5.3 in c:\\users\\gm\\anaconda3\\envs\\bedrock\\lib\\site-packages (from langchain) (6.0.1)\n",
      "Requirement already satisfied: SQLAlchemy<3,>=1.4 in c:\\users\\gm\\anaconda3\\envs\\bedrock\\lib\\site-packages (from langchain) (2.0.29)\n",
      "Requirement already satisfied: aiohttp<4.0.0,>=3.8.3 in c:\\users\\gm\\anaconda3\\envs\\bedrock\\lib\\site-packages (from langchain) (3.9.3)\n",
      "Requirement already satisfied: async-timeout<5.0.0,>=4.0.0 in c:\\users\\gm\\anaconda3\\envs\\bedrock\\lib\\site-packages (from langchain) (4.0.3)\n",
      "Requirement already satisfied: dataclasses-json<0.7,>=0.5.7 in c:\\users\\gm\\anaconda3\\envs\\bedrock\\lib\\site-packages (from langchain) (0.6.4)\n",
      "Requirement already satisfied: jsonpatch<2.0,>=1.33 in c:\\users\\gm\\anaconda3\\envs\\bedrock\\lib\\site-packages (from langchain) (1.33)\n",
      "Requirement already satisfied: langchain-community<0.1,>=0.0.30 in c:\\users\\gm\\anaconda3\\envs\\bedrock\\lib\\site-packages (from langchain) (0.0.34)\n",
      "Requirement already satisfied: langchain-core<0.2.0,>=0.1.37 in c:\\users\\gm\\anaconda3\\envs\\bedrock\\lib\\site-packages (from langchain) (0.1.52)\n",
      "Requirement already satisfied: langchain-text-splitters<0.1,>=0.0.1 in c:\\users\\gm\\anaconda3\\envs\\bedrock\\lib\\site-packages (from langchain) (0.0.1)\n",
      "Requirement already satisfied: langsmith<0.2.0,>=0.1.17 in c:\\users\\gm\\anaconda3\\envs\\bedrock\\lib\\site-packages (from langchain) (0.1.38)\n",
      "Requirement already satisfied: numpy<2,>=1 in c:\\users\\gm\\anaconda3\\envs\\bedrock\\lib\\site-packages (from langchain) (1.26.4)\n",
      "Requirement already satisfied: pydantic<3,>=1 in c:\\users\\gm\\anaconda3\\envs\\bedrock\\lib\\site-packages (from langchain) (2.6.4)\n",
      "Requirement already satisfied: requests<3,>=2 in c:\\users\\gm\\anaconda3\\envs\\bedrock\\lib\\site-packages (from langchain) (2.32.3)\n",
      "Requirement already satisfied: tenacity<9.0.0,>=8.1.0 in c:\\users\\gm\\anaconda3\\envs\\bedrock\\lib\\site-packages (from langchain) (8.2.3)\n",
      "Requirement already satisfied: aiosignal>=1.1.2 in c:\\users\\gm\\anaconda3\\envs\\bedrock\\lib\\site-packages (from aiohttp<4.0.0,>=3.8.3->langchain) (1.3.1)\n",
      "Requirement already satisfied: attrs>=17.3.0 in c:\\users\\gm\\anaconda3\\envs\\bedrock\\lib\\site-packages (from aiohttp<4.0.0,>=3.8.3->langchain) (23.2.0)\n",
      "Requirement already satisfied: frozenlist>=1.1.1 in c:\\users\\gm\\anaconda3\\envs\\bedrock\\lib\\site-packages (from aiohttp<4.0.0,>=3.8.3->langchain) (1.4.1)\n",
      "Requirement already satisfied: multidict<7.0,>=4.5 in c:\\users\\gm\\anaconda3\\envs\\bedrock\\lib\\site-packages (from aiohttp<4.0.0,>=3.8.3->langchain) (6.0.5)\n",
      "Requirement already satisfied: yarl<2.0,>=1.0 in c:\\users\\gm\\anaconda3\\envs\\bedrock\\lib\\site-packages (from aiohttp<4.0.0,>=3.8.3->langchain) (1.9.4)\n",
      "Requirement already satisfied: marshmallow<4.0.0,>=3.18.0 in c:\\users\\gm\\anaconda3\\envs\\bedrock\\lib\\site-packages (from dataclasses-json<0.7,>=0.5.7->langchain) (3.21.1)\n",
      "Requirement already satisfied: typing-inspect<1,>=0.4.0 in c:\\users\\gm\\anaconda3\\envs\\bedrock\\lib\\site-packages (from dataclasses-json<0.7,>=0.5.7->langchain) (0.9.0)\n",
      "Requirement already satisfied: jsonpointer>=1.9 in c:\\users\\gm\\anaconda3\\envs\\bedrock\\lib\\site-packages (from jsonpatch<2.0,>=1.33->langchain) (2.4)\n",
      "Requirement already satisfied: packaging<24.0,>=23.2 in c:\\users\\gm\\anaconda3\\envs\\bedrock\\lib\\site-packages (from langchain-core<0.2.0,>=0.1.37->langchain) (23.2)\n",
      "Requirement already satisfied: orjson<4.0.0,>=3.9.14 in c:\\users\\gm\\anaconda3\\envs\\bedrock\\lib\\site-packages (from langsmith<0.2.0,>=0.1.17->langchain) (3.10.0)\n",
      "Requirement already satisfied: annotated-types>=0.4.0 in c:\\users\\gm\\anaconda3\\envs\\bedrock\\lib\\site-packages (from pydantic<3,>=1->langchain) (0.6.0)\n",
      "Requirement already satisfied: pydantic-core==2.16.3 in c:\\users\\gm\\anaconda3\\envs\\bedrock\\lib\\site-packages (from pydantic<3,>=1->langchain) (2.16.3)\n",
      "Requirement already satisfied: typing-extensions>=4.6.1 in c:\\users\\gm\\anaconda3\\envs\\bedrock\\lib\\site-packages (from pydantic<3,>=1->langchain) (4.12.2)\n",
      "Requirement already satisfied: charset-normalizer<4,>=2 in c:\\users\\gm\\anaconda3\\envs\\bedrock\\lib\\site-packages (from requests<3,>=2->langchain) (2.1.1)\n",
      "Requirement already satisfied: idna<4,>=2.5 in c:\\users\\gm\\anaconda3\\envs\\bedrock\\lib\\site-packages (from requests<3,>=2->langchain) (2.10)\n",
      "Requirement already satisfied: urllib3<3,>=1.21.1 in c:\\users\\gm\\anaconda3\\envs\\bedrock\\lib\\site-packages (from requests<3,>=2->langchain) (2.2.3)\n",
      "Requirement already satisfied: certifi>=2017.4.17 in c:\\users\\gm\\anaconda3\\envs\\bedrock\\lib\\site-packages (from requests<3,>=2->langchain) (2024.2.2)\n",
      "Requirement already satisfied: greenlet!=0.4.17 in c:\\users\\gm\\anaconda3\\envs\\bedrock\\lib\\site-packages (from SQLAlchemy<3,>=1.4->langchain) (3.0.3)\n",
      "Requirement already satisfied: mypy-extensions>=0.3.0 in c:\\users\\gm\\anaconda3\\envs\\bedrock\\lib\\site-packages (from typing-inspect<1,>=0.4.0->dataclasses-json<0.7,>=0.5.7->langchain) (1.0.0)\n",
      "Requirement already satisfied: langchain_experimental in c:\\users\\gm\\anaconda3\\envs\\bedrock\\lib\\site-packages (0.0.56)\n",
      "Requirement already satisfied: langchain<0.2.0,>=0.1.14 in c:\\users\\gm\\anaconda3\\envs\\bedrock\\lib\\site-packages (from langchain_experimental) (0.1.14)\n",
      "Requirement already satisfied: langchain-core<0.2.0,>=0.1.37 in c:\\users\\gm\\anaconda3\\envs\\bedrock\\lib\\site-packages (from langchain_experimental) (0.1.52)\n",
      "Requirement already satisfied: PyYAML>=5.3 in c:\\users\\gm\\anaconda3\\envs\\bedrock\\lib\\site-packages (from langchain<0.2.0,>=0.1.14->langchain_experimental) (6.0.1)\n",
      "Requirement already satisfied: SQLAlchemy<3,>=1.4 in c:\\users\\gm\\anaconda3\\envs\\bedrock\\lib\\site-packages (from langchain<0.2.0,>=0.1.14->langchain_experimental) (2.0.29)\n",
      "Requirement already satisfied: aiohttp<4.0.0,>=3.8.3 in c:\\users\\gm\\anaconda3\\envs\\bedrock\\lib\\site-packages (from langchain<0.2.0,>=0.1.14->langchain_experimental) (3.9.3)\n",
      "Requirement already satisfied: async-timeout<5.0.0,>=4.0.0 in c:\\users\\gm\\anaconda3\\envs\\bedrock\\lib\\site-packages (from langchain<0.2.0,>=0.1.14->langchain_experimental) (4.0.3)\n",
      "Requirement already satisfied: dataclasses-json<0.7,>=0.5.7 in c:\\users\\gm\\anaconda3\\envs\\bedrock\\lib\\site-packages (from langchain<0.2.0,>=0.1.14->langchain_experimental) (0.6.4)\n",
      "Requirement already satisfied: jsonpatch<2.0,>=1.33 in c:\\users\\gm\\anaconda3\\envs\\bedrock\\lib\\site-packages (from langchain<0.2.0,>=0.1.14->langchain_experimental) (1.33)\n",
      "Requirement already satisfied: langchain-community<0.1,>=0.0.30 in c:\\users\\gm\\anaconda3\\envs\\bedrock\\lib\\site-packages (from langchain<0.2.0,>=0.1.14->langchain_experimental) (0.0.34)\n",
      "Requirement already satisfied: langchain-text-splitters<0.1,>=0.0.1 in c:\\users\\gm\\anaconda3\\envs\\bedrock\\lib\\site-packages (from langchain<0.2.0,>=0.1.14->langchain_experimental) (0.0.1)\n",
      "Requirement already satisfied: langsmith<0.2.0,>=0.1.17 in c:\\users\\gm\\anaconda3\\envs\\bedrock\\lib\\site-packages (from langchain<0.2.0,>=0.1.14->langchain_experimental) (0.1.38)\n",
      "Requirement already satisfied: numpy<2,>=1 in c:\\users\\gm\\anaconda3\\envs\\bedrock\\lib\\site-packages (from langchain<0.2.0,>=0.1.14->langchain_experimental) (1.26.4)\n",
      "Requirement already satisfied: pydantic<3,>=1 in c:\\users\\gm\\anaconda3\\envs\\bedrock\\lib\\site-packages (from langchain<0.2.0,>=0.1.14->langchain_experimental) (2.6.4)\n",
      "Requirement already satisfied: requests<3,>=2 in c:\\users\\gm\\anaconda3\\envs\\bedrock\\lib\\site-packages (from langchain<0.2.0,>=0.1.14->langchain_experimental) (2.32.3)\n",
      "Requirement already satisfied: tenacity<9.0.0,>=8.1.0 in c:\\users\\gm\\anaconda3\\envs\\bedrock\\lib\\site-packages (from langchain<0.2.0,>=0.1.14->langchain_experimental) (8.2.3)\n",
      "Requirement already satisfied: packaging<24.0,>=23.2 in c:\\users\\gm\\anaconda3\\envs\\bedrock\\lib\\site-packages (from langchain-core<0.2.0,>=0.1.37->langchain_experimental) (23.2)\n",
      "Requirement already satisfied: aiosignal>=1.1.2 in c:\\users\\gm\\anaconda3\\envs\\bedrock\\lib\\site-packages (from aiohttp<4.0.0,>=3.8.3->langchain<0.2.0,>=0.1.14->langchain_experimental) (1.3.1)\n",
      "Requirement already satisfied: attrs>=17.3.0 in c:\\users\\gm\\anaconda3\\envs\\bedrock\\lib\\site-packages (from aiohttp<4.0.0,>=3.8.3->langchain<0.2.0,>=0.1.14->langchain_experimental) (23.2.0)\n",
      "Requirement already satisfied: frozenlist>=1.1.1 in c:\\users\\gm\\anaconda3\\envs\\bedrock\\lib\\site-packages (from aiohttp<4.0.0,>=3.8.3->langchain<0.2.0,>=0.1.14->langchain_experimental) (1.4.1)\n",
      "Requirement already satisfied: multidict<7.0,>=4.5 in c:\\users\\gm\\anaconda3\\envs\\bedrock\\lib\\site-packages (from aiohttp<4.0.0,>=3.8.3->langchain<0.2.0,>=0.1.14->langchain_experimental) (6.0.5)\n",
      "Requirement already satisfied: yarl<2.0,>=1.0 in c:\\users\\gm\\anaconda3\\envs\\bedrock\\lib\\site-packages (from aiohttp<4.0.0,>=3.8.3->langchain<0.2.0,>=0.1.14->langchain_experimental) (1.9.4)\n",
      "Requirement already satisfied: marshmallow<4.0.0,>=3.18.0 in c:\\users\\gm\\anaconda3\\envs\\bedrock\\lib\\site-packages (from dataclasses-json<0.7,>=0.5.7->langchain<0.2.0,>=0.1.14->langchain_experimental) (3.21.1)\n",
      "Requirement already satisfied: typing-inspect<1,>=0.4.0 in c:\\users\\gm\\anaconda3\\envs\\bedrock\\lib\\site-packages (from dataclasses-json<0.7,>=0.5.7->langchain<0.2.0,>=0.1.14->langchain_experimental) (0.9.0)\n",
      "Requirement already satisfied: jsonpointer>=1.9 in c:\\users\\gm\\anaconda3\\envs\\bedrock\\lib\\site-packages (from jsonpatch<2.0,>=1.33->langchain<0.2.0,>=0.1.14->langchain_experimental) (2.4)\n",
      "Requirement already satisfied: orjson<4.0.0,>=3.9.14 in c:\\users\\gm\\anaconda3\\envs\\bedrock\\lib\\site-packages (from langsmith<0.2.0,>=0.1.17->langchain<0.2.0,>=0.1.14->langchain_experimental) (3.10.0)\n",
      "Requirement already satisfied: annotated-types>=0.4.0 in c:\\users\\gm\\anaconda3\\envs\\bedrock\\lib\\site-packages (from pydantic<3,>=1->langchain<0.2.0,>=0.1.14->langchain_experimental) (0.6.0)\n",
      "Requirement already satisfied: pydantic-core==2.16.3 in c:\\users\\gm\\anaconda3\\envs\\bedrock\\lib\\site-packages (from pydantic<3,>=1->langchain<0.2.0,>=0.1.14->langchain_experimental) (2.16.3)\n",
      "Requirement already satisfied: typing-extensions>=4.6.1 in c:\\users\\gm\\anaconda3\\envs\\bedrock\\lib\\site-packages (from pydantic<3,>=1->langchain<0.2.0,>=0.1.14->langchain_experimental) (4.12.2)\n",
      "Requirement already satisfied: charset-normalizer<4,>=2 in c:\\users\\gm\\anaconda3\\envs\\bedrock\\lib\\site-packages (from requests<3,>=2->langchain<0.2.0,>=0.1.14->langchain_experimental) (2.1.1)\n",
      "Requirement already satisfied: idna<4,>=2.5 in c:\\users\\gm\\anaconda3\\envs\\bedrock\\lib\\site-packages (from requests<3,>=2->langchain<0.2.0,>=0.1.14->langchain_experimental) (2.10)\n",
      "Requirement already satisfied: urllib3<3,>=1.21.1 in c:\\users\\gm\\anaconda3\\envs\\bedrock\\lib\\site-packages (from requests<3,>=2->langchain<0.2.0,>=0.1.14->langchain_experimental) (2.2.3)\n",
      "Requirement already satisfied: certifi>=2017.4.17 in c:\\users\\gm\\anaconda3\\envs\\bedrock\\lib\\site-packages (from requests<3,>=2->langchain<0.2.0,>=0.1.14->langchain_experimental) (2024.2.2)\n",
      "Requirement already satisfied: greenlet!=0.4.17 in c:\\users\\gm\\anaconda3\\envs\\bedrock\\lib\\site-packages (from SQLAlchemy<3,>=1.4->langchain<0.2.0,>=0.1.14->langchain_experimental) (3.0.3)\n",
      "Requirement already satisfied: mypy-extensions>=0.3.0 in c:\\users\\gm\\anaconda3\\envs\\bedrock\\lib\\site-packages (from typing-inspect<1,>=0.4.0->dataclasses-json<0.7,>=0.5.7->langchain<0.2.0,>=0.1.14->langchain_experimental) (1.0.0)\n",
      "Requirement already satisfied: langchain_openai in c:\\users\\gm\\anaconda3\\envs\\bedrock\\lib\\site-packages (0.1.6)\n",
      "Requirement already satisfied: langchain-core<0.2.0,>=0.1.46 in c:\\users\\gm\\anaconda3\\envs\\bedrock\\lib\\site-packages (from langchain_openai) (0.1.52)\n",
      "Collecting openai<2.0.0,>=1.24.0 (from langchain_openai)\n",
      "  Using cached openai-1.47.0-py3-none-any.whl.metadata (24 kB)\n",
      "Requirement already satisfied: tiktoken<1,>=0.5.2 in c:\\users\\gm\\anaconda3\\envs\\bedrock\\lib\\site-packages (from langchain_openai) (0.5.2)\n",
      "Requirement already satisfied: PyYAML>=5.3 in c:\\users\\gm\\anaconda3\\envs\\bedrock\\lib\\site-packages (from langchain-core<0.2.0,>=0.1.46->langchain_openai) (6.0.1)\n",
      "Requirement already satisfied: jsonpatch<2.0,>=1.33 in c:\\users\\gm\\anaconda3\\envs\\bedrock\\lib\\site-packages (from langchain-core<0.2.0,>=0.1.46->langchain_openai) (1.33)\n",
      "Requirement already satisfied: langsmith<0.2.0,>=0.1.0 in c:\\users\\gm\\anaconda3\\envs\\bedrock\\lib\\site-packages (from langchain-core<0.2.0,>=0.1.46->langchain_openai) (0.1.38)\n",
      "Requirement already satisfied: packaging<24.0,>=23.2 in c:\\users\\gm\\anaconda3\\envs\\bedrock\\lib\\site-packages (from langchain-core<0.2.0,>=0.1.46->langchain_openai) (23.2)\n",
      "Requirement already satisfied: pydantic<3,>=1 in c:\\users\\gm\\anaconda3\\envs\\bedrock\\lib\\site-packages (from langchain-core<0.2.0,>=0.1.46->langchain_openai) (2.6.4)\n",
      "Requirement already satisfied: tenacity<9.0.0,>=8.1.0 in c:\\users\\gm\\anaconda3\\envs\\bedrock\\lib\\site-packages (from langchain-core<0.2.0,>=0.1.46->langchain_openai) (8.2.3)\n",
      "Requirement already satisfied: anyio<5,>=3.5.0 in c:\\users\\gm\\anaconda3\\envs\\bedrock\\lib\\site-packages (from openai<2.0.0,>=1.24.0->langchain_openai) (4.3.0)\n",
      "Requirement already satisfied: distro<2,>=1.7.0 in c:\\users\\gm\\anaconda3\\envs\\bedrock\\lib\\site-packages (from openai<2.0.0,>=1.24.0->langchain_openai) (1.9.0)\n",
      "Requirement already satisfied: httpx<1,>=0.23.0 in c:\\users\\gm\\anaconda3\\envs\\bedrock\\lib\\site-packages (from openai<2.0.0,>=1.24.0->langchain_openai) (0.27.0)\n",
      "Requirement already satisfied: jiter<1,>=0.4.0 in c:\\users\\gm\\anaconda3\\envs\\bedrock\\lib\\site-packages (from openai<2.0.0,>=1.24.0->langchain_openai) (0.5.0)\n",
      "Requirement already satisfied: sniffio in c:\\users\\gm\\anaconda3\\envs\\bedrock\\lib\\site-packages (from openai<2.0.0,>=1.24.0->langchain_openai) (1.3.1)\n",
      "Requirement already satisfied: tqdm>4 in c:\\users\\gm\\anaconda3\\envs\\bedrock\\lib\\site-packages (from openai<2.0.0,>=1.24.0->langchain_openai) (4.66.2)\n",
      "Requirement already satisfied: typing-extensions<5,>=4.11 in c:\\users\\gm\\anaconda3\\envs\\bedrock\\lib\\site-packages (from openai<2.0.0,>=1.24.0->langchain_openai) (4.12.2)\n",
      "Requirement already satisfied: regex>=2022.1.18 in c:\\users\\gm\\anaconda3\\envs\\bedrock\\lib\\site-packages (from tiktoken<1,>=0.5.2->langchain_openai) (2023.12.25)\n",
      "Requirement already satisfied: requests>=2.26.0 in c:\\users\\gm\\anaconda3\\envs\\bedrock\\lib\\site-packages (from tiktoken<1,>=0.5.2->langchain_openai) (2.32.3)\n",
      "Requirement already satisfied: idna>=2.8 in c:\\users\\gm\\anaconda3\\envs\\bedrock\\lib\\site-packages (from anyio<5,>=3.5.0->openai<2.0.0,>=1.24.0->langchain_openai) (2.10)\n",
      "Requirement already satisfied: exceptiongroup>=1.0.2 in c:\\users\\gm\\anaconda3\\envs\\bedrock\\lib\\site-packages (from anyio<5,>=3.5.0->openai<2.0.0,>=1.24.0->langchain_openai) (1.2.0)\n",
      "Requirement already satisfied: certifi in c:\\users\\gm\\anaconda3\\envs\\bedrock\\lib\\site-packages (from httpx<1,>=0.23.0->openai<2.0.0,>=1.24.0->langchain_openai) (2024.2.2)\n",
      "Requirement already satisfied: httpcore==1.* in c:\\users\\gm\\anaconda3\\envs\\bedrock\\lib\\site-packages (from httpx<1,>=0.23.0->openai<2.0.0,>=1.24.0->langchain_openai) (1.0.5)\n",
      "Requirement already satisfied: h11<0.15,>=0.13 in c:\\users\\gm\\anaconda3\\envs\\bedrock\\lib\\site-packages (from httpcore==1.*->httpx<1,>=0.23.0->openai<2.0.0,>=1.24.0->langchain_openai) (0.14.0)\n",
      "Requirement already satisfied: jsonpointer>=1.9 in c:\\users\\gm\\anaconda3\\envs\\bedrock\\lib\\site-packages (from jsonpatch<2.0,>=1.33->langchain-core<0.2.0,>=0.1.46->langchain_openai) (2.4)\n",
      "Requirement already satisfied: orjson<4.0.0,>=3.9.14 in c:\\users\\gm\\anaconda3\\envs\\bedrock\\lib\\site-packages (from langsmith<0.2.0,>=0.1.0->langchain-core<0.2.0,>=0.1.46->langchain_openai) (3.10.0)\n",
      "Requirement already satisfied: annotated-types>=0.4.0 in c:\\users\\gm\\anaconda3\\envs\\bedrock\\lib\\site-packages (from pydantic<3,>=1->langchain-core<0.2.0,>=0.1.46->langchain_openai) (0.6.0)\n",
      "Requirement already satisfied: pydantic-core==2.16.3 in c:\\users\\gm\\anaconda3\\envs\\bedrock\\lib\\site-packages (from pydantic<3,>=1->langchain-core<0.2.0,>=0.1.46->langchain_openai) (2.16.3)\n",
      "Requirement already satisfied: charset-normalizer<4,>=2 in c:\\users\\gm\\anaconda3\\envs\\bedrock\\lib\\site-packages (from requests>=2.26.0->tiktoken<1,>=0.5.2->langchain_openai) (2.1.1)\n",
      "Requirement already satisfied: urllib3<3,>=1.21.1 in c:\\users\\gm\\anaconda3\\envs\\bedrock\\lib\\site-packages (from requests>=2.26.0->tiktoken<1,>=0.5.2->langchain_openai) (2.2.3)\n",
      "Requirement already satisfied: colorama in c:\\users\\gm\\anaconda3\\envs\\bedrock\\lib\\site-packages (from tqdm>4->openai<2.0.0,>=1.24.0->langchain_openai) (0.4.6)\n",
      "Using cached openai-1.47.0-py3-none-any.whl (375 kB)\n",
      "Installing collected packages: openai\n",
      "  Attempting uninstall: openai\n",
      "    Found existing installation: openai 0.28.0\n",
      "    Uninstalling openai-0.28.0:\n",
      "      Successfully uninstalled openai-0.28.0\n",
      "Successfully installed openai-1.47.0\n",
      "Requirement already satisfied: openai in c:\\users\\gm\\anaconda3\\envs\\bedrock\\lib\\site-packages (1.47.0)\n",
      "Requirement already satisfied: anyio<5,>=3.5.0 in c:\\users\\gm\\anaconda3\\envs\\bedrock\\lib\\site-packages (from openai) (4.3.0)\n",
      "Requirement already satisfied: distro<2,>=1.7.0 in c:\\users\\gm\\anaconda3\\envs\\bedrock\\lib\\site-packages (from openai) (1.9.0)\n",
      "Requirement already satisfied: httpx<1,>=0.23.0 in c:\\users\\gm\\anaconda3\\envs\\bedrock\\lib\\site-packages (from openai) (0.27.0)\n",
      "Requirement already satisfied: jiter<1,>=0.4.0 in c:\\users\\gm\\anaconda3\\envs\\bedrock\\lib\\site-packages (from openai) (0.5.0)\n",
      "Requirement already satisfied: pydantic<3,>=1.9.0 in c:\\users\\gm\\anaconda3\\envs\\bedrock\\lib\\site-packages (from openai) (2.6.4)\n",
      "Requirement already satisfied: sniffio in c:\\users\\gm\\anaconda3\\envs\\bedrock\\lib\\site-packages (from openai) (1.3.1)\n",
      "Requirement already satisfied: tqdm>4 in c:\\users\\gm\\anaconda3\\envs\\bedrock\\lib\\site-packages (from openai) (4.66.2)\n",
      "Requirement already satisfied: typing-extensions<5,>=4.11 in c:\\users\\gm\\anaconda3\\envs\\bedrock\\lib\\site-packages (from openai) (4.12.2)\n",
      "Requirement already satisfied: idna>=2.8 in c:\\users\\gm\\anaconda3\\envs\\bedrock\\lib\\site-packages (from anyio<5,>=3.5.0->openai) (2.10)\n",
      "Requirement already satisfied: exceptiongroup>=1.0.2 in c:\\users\\gm\\anaconda3\\envs\\bedrock\\lib\\site-packages (from anyio<5,>=3.5.0->openai) (1.2.0)\n",
      "Requirement already satisfied: certifi in c:\\users\\gm\\anaconda3\\envs\\bedrock\\lib\\site-packages (from httpx<1,>=0.23.0->openai) (2024.2.2)\n",
      "Requirement already satisfied: httpcore==1.* in c:\\users\\gm\\anaconda3\\envs\\bedrock\\lib\\site-packages (from httpx<1,>=0.23.0->openai) (1.0.5)\n",
      "Requirement already satisfied: h11<0.15,>=0.13 in c:\\users\\gm\\anaconda3\\envs\\bedrock\\lib\\site-packages (from httpcore==1.*->httpx<1,>=0.23.0->openai) (0.14.0)\n",
      "Requirement already satisfied: annotated-types>=0.4.0 in c:\\users\\gm\\anaconda3\\envs\\bedrock\\lib\\site-packages (from pydantic<3,>=1.9.0->openai) (0.6.0)\n",
      "Requirement already satisfied: pydantic-core==2.16.3 in c:\\users\\gm\\anaconda3\\envs\\bedrock\\lib\\site-packages (from pydantic<3,>=1.9.0->openai) (2.16.3)\n",
      "Requirement already satisfied: colorama in c:\\users\\gm\\anaconda3\\envs\\bedrock\\lib\\site-packages (from tqdm>4->openai) (0.4.6)\n"
     ]
    }
   ],
   "source": [
    "! pip install langchain\n",
    "! pip install langchain_experimental\n",
    "! pip install langchain_openai\n",
    "! pip install -U openai"
   ]
  },
  {
   "cell_type": "code",
   "execution_count": 9,
   "metadata": {},
   "outputs": [],
   "source": [
    "from langchain.agents.agent_types import AgentType\n",
    "from langchain_experimental.agents.agent_toolkits import create_csv_agent\n",
    "from langchain_openai import ChatOpenAI"
   ]
  },
  {
   "cell_type": "code",
   "execution_count": 10,
   "metadata": {},
   "outputs": [],
   "source": [
    "import os\n",
    "os.environ[\"OPENAI_API_KEY\"] = \"sk-proj-EZ2HXokcnX8O6Zh6OgQCT3BlbkFJSmT5ONnLxQrPGd6HYA9Q\""
   ]
  },
  {
   "cell_type": "code",
   "execution_count": 22,
   "metadata": {},
   "outputs": [],
   "source": [
    "agent = create_csv_agent(\n",
    "    ChatOpenAI(temperature=0, model=\"gpt-3.5-turbo\"),\n",
    "    \"sales_data.csv\",\n",
    "    verbose=True,\n",
    "    agent_type=AgentType.OPENAI_FUNCTIONS,\n",
    ")"
   ]
  },
  {
   "cell_type": "code",
   "execution_count": 26,
   "metadata": {},
   "outputs": [
    {
     "name": "stdout",
     "output_type": "stream",
     "text": [
      "\n",
      "\n",
      "\u001b[1m> Entering new AgentExecutor chain...\u001b[0m\n",
      "\u001b[32;1m\u001b[1;3m\n",
      "Invoking: `python_repl_ast` with `{'query': \"total_sales_by_gender = df.groupby('Gender')['sales'].sum()\\ntotal_sales_by_gender\"}`\n",
      "\n",
      "\n",
      "\u001b[0m\u001b[36;1m\u001b[1;3mGender\n",
      "Female    232840\n",
      "Male      223160\n",
      "Name: sales, dtype: int64\u001b[0m\u001b[32;1m\u001b[1;3mThe total sales generated by the male category is $223,160 and by the female category is $232,840.\u001b[0m\n",
      "\n",
      "\u001b[1m> Finished chain.\u001b[0m\n"
     ]
    },
    {
     "data": {
      "text/plain": [
       "'The total sales generated by the male category is $223,160 and by the female category is $232,840.'"
      ]
     },
     "execution_count": 26,
     "metadata": {},
     "output_type": "execute_result"
    }
   ],
   "source": [
    "agent.run(\"give me total sales generated by male category and female category\")"
   ]
  },
  {
   "cell_type": "code",
   "execution_count": null,
   "metadata": {},
   "outputs": [],
   "source": []
  }
 ],
 "metadata": {
  "kernelspec": {
   "display_name": "GenAITraining",
   "language": "python",
   "name": "python3"
  },
  "language_info": {
   "codemirror_mode": {
    "name": "ipython",
    "version": 3
   },
   "file_extension": ".py",
   "mimetype": "text/x-python",
   "name": "python",
   "nbconvert_exporter": "python",
   "pygments_lexer": "ipython3",
   "version": "3.10.0"
  }
 },
 "nbformat": 4,
 "nbformat_minor": 2
}
